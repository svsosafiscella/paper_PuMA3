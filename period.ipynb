{
 "cells": [
  {
   "cell_type": "markdown",
   "metadata": {},
   "source": [
    "### Programa que ajusta períodos \"instantáneos\" usando el .polycos de una observación"
   ]
  },
  {
   "cell_type": "markdown",
   "metadata": {},
   "source": [
    "*Nota*: en el archivo original se usaba la notacion científica con \"D\", cambiarla a \"e\"."
   ]
  },
  {
   "cell_type": "markdown",
   "metadata": {},
   "source": [
    "Importamos los paquetes que vamos a usar"
   ]
  },
  {
   "cell_type": "code",
   "execution_count": 1,
   "metadata": {
    "collapsed": true
   },
   "outputs": [],
   "source": [
    "import matplotlib.mlab as mlab\n",
    "import matplotlib as mpl\n",
    "import matplotlib.pyplot as plt     # para graficar\n",
    "\n",
    "import math\n",
    "import decimal\n",
    "import numpy as np\n",
    "import glob                         # para hacer listas de archivo"
   ]
  },
  {
   "cell_type": "markdown",
   "metadata": {},
   "source": [
    "Función que calcula la frecuencia y el período a partir de los parámetros "
   ]
  },
  {
   "cell_type": "code",
   "execution_count": 2,
   "metadata": {
    "collapsed": true
   },
   "outputs": [],
   "source": [
    "def PERIOD(T, F0, COEFF, TMID):\n",
    "    \n",
    "    DT = (T - TMID) * 1440.\n",
    "    \n",
    "    FREQ = F0 + (1/60.) * COEFF[1] + 2*DT*COEFF[2] + 3*(DT**2)*COEFF[3] + 4*(DT**3)*COEFF[4] + 5*(DT**4)*COEFF[5] + 6*(DT**5)*COEFF[6] + 7*(DT**6)*COEFF[7] + 8*(DT**7)*COEFF[8] + 9*(DT**8)*COEFF[9] + 10*(DT**9)*COEFF[10] + 11*(DT**10)*COEFF[11]\n",
    "    \n",
    "    return 1/FREQ"
   ]
  },
  {
   "cell_type": "markdown",
   "metadata": {},
   "source": [
    "Abrimos el archivo .polycos y el archivo de salida"
   ]
  },
  {
   "cell_type": "code",
   "execution_count": 4,
   "metadata": {},
   "outputs": [
    {
     "name": "stdout",
     "output_type": "stream",
     "text": [
      "prepfold_timing_20200318_201231_PSR_0835-4510.pfd.polycos\n"
     ]
    }
   ],
   "source": [
    "file = glob.glob('*.polycos')[0]      # buscamos el archivo .polycos\n",
    "print(file)\n",
    "lines=sum(1 for line in open(file))   # leemos el número de líneas\n",
    "out = open(\"periods.dat\", \"w+\")       # abrimos el archivo de salida"
   ]
  },
  {
   "cell_type": "markdown",
   "metadata": {},
   "source": [
    "Arreglos que vamos a usar"
   ]
  },
  {
   "cell_type": "code",
   "execution_count": 4,
   "metadata": {
    "collapsed": true
   },
   "outputs": [],
   "source": [
    "ncoef = np.genfromtxt ( file, comments=\"none\", dtype=int, skip_header=1, max_rows=1, usecols=(4) ) # leemos el número de coeficientes\n",
    "COEFF = np.zeros(ncoef)   # vector de coeficientes\n",
    "P_array = []              # vector de períodos\n",
    "T_array = []              # vector de MJD"
   ]
  },
  {
   "cell_type": "markdown",
   "metadata": {},
   "source": [
    "En el archivo .polycos la información está en bloques de datos, cada uno correspondiente a un MJD distinto.\n",
    "Dentro de cada bloque tenemos:\n",
    "1. Una línea con el nombre de púlsar, fecha, UTC, TMID, DM.\n",
    "2. Una línea con RPHASE, F0, observatorio, duración, número de coeficientes, frecuencia de observación.\n",
    "3. Cuatro líneas con los coeficientes, con tres coeficientes por línea (12 en total)."
   ]
  },
  {
   "cell_type": "code",
   "execution_count": 5,
   "metadata": {},
   "outputs": [
    {
     "name": "stdout",
     "output_type": "stream",
     "text": [
      "58924.541666666666668\n",
      "58924.58333333326667\n",
      "58924.62499999996667\n",
      "58924.666666666666668\n",
      "58924.70833333326667\n",
      "58924.74999999996667\n",
      "58924.791666666666668\n",
      "58924.83333333326667\n",
      "58924.87499999996667\n",
      "58924.916666666666668\n",
      "58924.95833333326667\n",
      "58924.99999999996667\n",
      "58925.041666666666668\n",
      "58925.08333333326667\n",
      "58925.12499999996667\n",
      "58925.166666666666668\n",
      "58925.20833333326667\n",
      "58925.24999999996667\n",
      "58925.291666666666668\n",
      "58925.33333333326667\n",
      "58925.37499999996667\n",
      "58925.416666666666668\n",
      "58925.45833333326667\n",
      "58925.49999999996667\n",
      "58925.541666666666668\n",
      "58925.58333333326667\n",
      "58925.62499999996667\n",
      "58925.666666666666668\n",
      "58925.70833333326667\n",
      "58925.74999999996667\n",
      "58925.791666666666668\n",
      "58925.83333333326667\n",
      "58925.87499999996667\n",
      "58925.916666666666668\n",
      "58925.95833333326667\n",
      "58925.99999999996667\n",
      "58926.041666666666668\n",
      "58926.08333333326667\n",
      "58926.12499999996667\n",
      "58926.166666666666668\n",
      "58926.20833333326667\n",
      "58926.24999999996667\n",
      "58926.291666666666668\n",
      "58926.33333333326667\n",
      "58926.37499999996667\n",
      "58926.416666666666668\n",
      "58926.45833333326667\n",
      "58926.49999999996667\n",
      "58926.52083333326667\n",
      "58926.56249999996667\n",
      "58926.604166666666668\n",
      "58926.64583333326667\n",
      "58926.68749999996667\n",
      "58926.729166666666668\n",
      "58926.77083333326667\n",
      "58926.81249999996667\n",
      "58926.854166666666668\n",
      "58926.89583333326667\n",
      "58926.93749999996667\n",
      "58926.979166666666668\n",
      "58927.02083333326667\n",
      "58927.06249999996667\n",
      "58927.104166666666668\n",
      "58927.14583333326667\n",
      "58927.18749999996667\n",
      "58927.229166666666668\n",
      "58927.27083333326667\n",
      "58927.31249999996667\n",
      "58927.354166666666668\n",
      "58927.39583333326667\n",
      "58927.43749999996667\n",
      "58927.479166666666668\n",
      "58927.52083333326667\n",
      "58927.56249999996667\n",
      "58927.604166666666668\n",
      "58927.64583333326667\n",
      "58927.68749999996667\n",
      "58927.729166666666668\n",
      "58927.77083333326667\n",
      "58927.81249999996667\n",
      "58927.854166666666668\n",
      "58927.89583333326667\n",
      "58927.93749999996667\n",
      "58927.979166666666668\n",
      "58928.02083333326667\n",
      "58928.06249999996667\n",
      "58928.104166666666668\n",
      "58928.14583333326667\n",
      "58928.18749999996667\n",
      "58928.229166666666668\n",
      "58928.27083333326667\n",
      "58928.31249999996667\n",
      "58928.354166666666668\n",
      "58928.39583333326667\n",
      "58928.43749999996667\n",
      "58928.479166666666668\n"
     ]
    }
   ],
   "source": [
    "n = 0\n",
    "while n < lines:    # recorremos todas las líneas del archivo .polycos\n",
    "    \n",
    "    UTC = np.genfromtxt( file, comments=\"none\", dtype=float, skip_header=n, max_rows=1, usecols=(2) )        # Middle point of the time span in UTC\n",
    "    TMID = np.genfromtxt( file, comments=\"none\", dtype=np.float128, skip_header=n, max_rows=1, usecols=(3) ) # Middle point of the time span in MJD\n",
    "    \n",
    "    F0 = np.genfromtxt( file, comments=\"none\", dtype=float, skip_header=n+1 , max_rows=1, usecols=(1) )     # Reference spin frequency\n",
    "    span_min = np.genfromtxt( file, comments=\"none\", dtype=float, skip_header=n+1, max_rows=1, usecols=(3)) # Time span in minutes\n",
    "    span_mjd = span_min * (1./(60.*24.))                                                                # Time span in MJD\n",
    "    \n",
    "    T_inicial = TMID - span_mjd/2.                                                                          # Starting point of the time span in MJD\n",
    "    print(T_inicial)\n",
    "    \n",
    "    matrix = np.genfromtxt(file, usecols=range(3), dtype=np.float128, skip_header=n+2, max_rows=4)          # Matriz de coeficientes\n",
    "    COEFF = matrix.flatten('C')                                                                             # Vector de coeficientes\n",
    "    \n",
    "    out.write(\"UTC_mid = \" + str(UTC) + \"\\n\")\n",
    "    out.write(\"T[MJD]    P[ms]    delta_T[min]\")\n",
    "    \n",
    "    delta_T = 0.\n",
    "    T = T_inicial\n",
    "    while delta_T < span_mjd:                # recorremos el timespan de cada bloque de datos\n",
    "        \n",
    "        P_seg = PERIOD(T, F0, COEFF, TMID)   # período en segundos\n",
    "        P_ms  = P_seg * 1000.                # período en milisegundos\n",
    "        P_mjd = P_seg * (1./(60.*60.*24.))   # período en MJD\n",
    "        P_array.append(P_ms)\n",
    "        T_array.append(T)\n",
    "        \n",
    "#        out.write(str(T) + \" \" + str(P_ms) + \" \" + str(delta_T * 60. * 24.))\n",
    "#        print((str(T) + \" \" + str(P_ms) + \" \" + str(delta_T * 60. * 24.)))\n",
    "    \n",
    "        T += P_mjd                           # al punto T en que estábamos parades le sumamos el período P\n",
    "        \n",
    "        delta_T = T - T_inicial              # calculamos el apartamiento respecto al T_inicial del bloque\n",
    "    \n",
    "    n += 6                                   # después de completar el span del bloque, habremos avanzado 6 líneas en el .polycos\n",
    "    \n",
    "out.close()\n",
    "\n",
    "with open('periods.npy', 'wb') as outnp:\n",
    "    np.save(outnp, P_array)\n"
   ]
  },
  {
   "cell_type": "code",
   "execution_count": 11,
   "metadata": {},
   "outputs": [
    {
     "name": "stdout",
     "output_type": "stream",
     "text": [
      "89.407590763041582614\n"
     ]
    }
   ],
   "source": [
    "with open('periods.npy', 'rb') as f:\n",
    "    a = np.load(f)\n",
    "    print(a[-1])"
   ]
  },
  {
   "cell_type": "code",
   "execution_count": 10,
   "metadata": {},
   "outputs": [
    {
     "data": {
      "image/png": "[encoded data removed]",
      "text/plain": [
       "<matplotlib.figure.Figure at 0x7fd20b7f67b8>"
      ]
     },
     "metadata": {},
     "output_type": "display_data"
    }
   ],
   "source": [
    "plt.close()\n",
    "\n",
    "# Set the fonts. Always use big fonts.\n",
    "nice_fonts = {\n",
    "        # Use LaTeX to write all text\n",
    "        \"text.usetex\": True,\n",
    "        \"font.family\": \"serif\",\n",
    "        # Use 10pt font in plots, to match 10pt font in document\n",
    "        \"axes.labelsize\": 30,\n",
    "        \"font.size\": 28,\n",
    "        \"axes.linewidth\": 1.5,\n",
    "        # Make the legend/label fonts a little smaller\n",
    "        \"legend.fontsize\": 32,\n",
    "        \"xtick.labelsize\": 28,\n",
    "        \"ytick.labelsize\": 28,\n",
    "}\n",
    "# Update the fonts\n",
    "mpl.rcParams.update(nice_fonts)\n",
    "\n",
    "\n",
    "plt.figure(figsize=(14,10))\n",
    "plt.grid()\n",
    "plt.xlim(T_array[0], T_array[0] + 1./24. * 3.) \n",
    "\n",
    "plt.xlabel('MJD')\n",
    "plt.ylabel('P')\n",
    "\n",
    "plt.axhline(y=89.4083119942048, color='r', linestyle='-')\n",
    "plt.plot(T_array, P_array)\n",
    "#plt.savefig(file + '.png', bbox_inches='tight')\n",
    "plt.show()"
   ]
  },
  {
   "cell_type": "code",
   "execution_count": 9,
   "metadata": {},
   "outputs": [
    {
     "name": "stdout",
     "output_type": "stream",
     "text": [
      "58924.541666666666668\n"
     ]
    }
   ],
   "source": [
    "print(T_array[0])"
   ]
  },
  {
   "cell_type": "code",
   "execution_count": null,
   "metadata": {
    "collapsed": true
   },
   "outputs": [],
   "source": []
  }
 ],
 "metadata": {
  "kernelspec": {
   "display_name": "Python 3",
   "language": "python",
   "name": "python3"
  },
  "language_info": {
   "codemirror_mode": {
    "name": "ipython",
    "version": 3
   },
   "file_extension": ".py",
   "mimetype": "text/x-python",
   "name": "python",
   "nbconvert_exporter": "python",
   "pygments_lexer": "ipython3",
   "version": "3.6.2"
  }
 },
 "nbformat": 4,
 "nbformat_minor": 2
}
