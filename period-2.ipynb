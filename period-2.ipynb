{
 "cells": [
  {
   "cell_type": "markdown",
   "metadata": {},
   "source": [
    "### Programa que ajusta períodos \"instantáneos\" usando el .polycos de una observación"
   ]
  },
  {
   "cell_type": "markdown",
   "metadata": {},
   "source": [
    "*Nota*: en el archivo original se usaba la notacion científica con \"D\", cambiarla a \"e\"."
   ]
  },
  {
   "cell_type": "markdown",
   "metadata": {},
   "source": [
    "Importamos los paquetes que vamos a usar"
   ]
  },
  {
   "cell_type": "code",
   "execution_count": 1,
   "metadata": {
    "collapsed": true
   },
   "outputs": [],
   "source": [
    "import matplotlib.mlab as mlab\n",
    "import matplotlib as mpl\n",
    "import matplotlib.pyplot as plt     # para graficar\n",
    "\n",
    "import math\n",
    "import decimal\n",
    "import numpy as np\n",
    "import glob                         # para hacer listas de archivos"
   ]
  },
  {
   "cell_type": "markdown",
   "metadata": {},
   "source": [
    "Función que calcula la frecuencia y el período a partir de los parámetros "
   ]
  },
  {
   "cell_type": "code",
   "execution_count": 2,
   "metadata": {
    "collapsed": true
   },
   "outputs": [],
   "source": [
    "def PERIOD(T, F0, COEFF, TMID):\n",
    "    \n",
    "    DT = (T - TMID) * 1440.\n",
    "    \n",
    "    FREQ = ( 11*(DT**10)*COEFF[11] + 10*(DT**9)*COEFF[10] + 9*(DT**8)*COEFF[9] + 8*(DT**7)*COEFF[8] + 7*(DT**6)*COEFF[7] + 6*(DT**5)*COEFF[6] + 5*(DT**4)*COEFF[5] + 4*(DT**3)*COEFF[4] + 3*(DT**2)*COEFF[3] + 2*DT*COEFF[2] + COEFF[1] ) * (1/60.) + F0\n",
    "        \n",
    "    return 1/FREQ"
   ]
  },
  {
   "cell_type": "markdown",
   "metadata": {},
   "source": [
    "Abrimos el archivo .polycos y el archivo de salida"
   ]
  },
  {
   "cell_type": "code",
   "execution_count": 3,
   "metadata": {},
   "outputs": [
    {
     "name": "stdout",
     "output_type": "stream",
     "text": [
      "prepfold_timing_20200318_201231_PSR_0835-4510.pfd.polycos\n"
     ]
    }
   ],
   "source": [
    "file = glob.glob('*.polycos')[0]      # buscamos el archivo .polycos\n",
    "print(file)\n",
    "lines=sum(1 for line in open(file))   # leemos el número de líneas\n",
    "out = open(\"periods.dat\", \"w+\")       # abrimos el archivo de salida"
   ]
  },
  {
   "cell_type": "markdown",
   "metadata": {},
   "source": [
    "Arreglos que vamos a usar"
   ]
  },
  {
   "cell_type": "code",
   "execution_count": 4,
   "metadata": {
    "collapsed": true
   },
   "outputs": [],
   "source": [
    "ncoef = np.genfromtxt ( file, comments=\"none\", dtype=int, skip_header=1, max_rows=1, usecols=(4) ) # leemos el número de coeficientes\n",
    "COEFF = np.zeros(ncoef)   # vector de coeficientes"
   ]
  },
  {
   "cell_type": "markdown",
   "metadata": {},
   "source": [
    "En el archivo .polycos la información está en bloques de datos, cada uno correspondiente a un MJD distinto.\n",
    "Dentro de cada bloque tenemos:\n",
    "1. Una línea con el nombre de púlsar, fecha, UTC, TMID, DM.\n",
    "2. Una línea con RPHASE, F0, observatorio, duración, número de coeficientes, frecuencia de observación.\n",
    "3. Cuatro líneas con los coeficientes, con tres coeficientes por línea (12 en total)."
   ]
  },
  {
   "cell_type": "code",
   "execution_count": 7,
   "metadata": {},
   "outputs": [
    {
     "name": "stdout",
     "output_type": "stream",
     "text": [
      "Entre MJD 58924.62499999996667 y 58924.666666666633333\n",
      "Correspodiente a TMID = 58924.6458333333\n",
      "P[ms] = 89.408068395468960655\n"
     ]
    }
   ],
   "source": [
    "T = 58924.65583333330\n",
    "\n",
    "n = 0               # número de líneas leídas del archivo .polycos\n",
    "not_found = True\n",
    "\n",
    "while not_found:\n",
    "\n",
    "    TMID = np.genfromtxt( file, comments=\"none\", dtype=np.float128, skip_header=n, max_rows=1, usecols=(3) ) # Middle point of the time span in MJD  \n",
    "    span_min = np.genfromtxt( file, comments=\"none\", dtype=float, skip_header=n+1, max_rows=1, usecols=(3))  # Time span in minutes\n",
    "    span_mjd = span_min * (1./(60.*24.))                                                                     # Time span in MJD\n",
    "        \n",
    "    T_inicial = TMID - span_mjd/2.                                                                           # Starting point of the time span in MJD\n",
    "    T_final   = TMID + span_mjd/2.\n",
    "\n",
    "    if T >= T_inicial and T < T_final:\n",
    "    \n",
    "        F0 = np.genfromtxt( file, comments=\"none\", dtype=float, skip_header=n+1 , max_rows=1, usecols=(1) )      # Reference spin frequency\n",
    "        matrix = np.genfromtxt(file, usecols=range(3), dtype=np.float128, skip_header=n+2, max_rows=4)           # Matriz de coeficientes\n",
    "        COEFF = matrix.flatten('C')                                                                              # Vector de coeficientes\n",
    "\n",
    "        P_seg = PERIOD(T, F0, COEFF, TMID)   # período en segundos\n",
    "#        print(\"Entre MJD \" + str(T_inicial) + \" y \" + str(T_final))\n",
    "#        print(\"Correspodiente a TMID = \" + str(TMID))\n",
    "        print(\"P[ms] = \" + str(P_seg * 1000.))\n",
    "        \n",
    "        not_found = False\n",
    "        \n",
    "    else:\n",
    "    \n",
    "        n += 6\n",
    "        \n",
    "        if n >= lines:\n",
    "            print(\"ERROR: el T indicado no se encuentra dentro del .polycos\")\n",
    "            return"
   ]
  },
  {
   "cell_type": "code",
   "execution_count": null,
   "metadata": {
    "collapsed": true
   },
   "outputs": [],
   "source": []
  }
 ],
 "metadata": {
  "kernelspec": {
   "display_name": "Python 3",
   "language": "python",
   "name": "python3"
  },
  "language_info": {
   "codemirror_mode": {
    "name": "ipython",
    "version": 3
   },
   "file_extension": ".py",
   "mimetype": "text/x-python",
   "name": "python",
   "nbconvert_exporter": "python",
   "pygments_lexer": "ipython3",
   "version": "3.6.2"
  }
 },
 "nbformat": 4,
 "nbformat_minor": 2
}
